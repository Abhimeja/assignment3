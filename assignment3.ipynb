{
 "cells": [
  {
   "cell_type": "markdown",
   "id": "eee34942-6b20-4fbc-bfe4-17f184f431d3",
   "metadata": {},
   "source": [
    "Q1. Which keyword is used to create a function? Create a function to return a list of odd numbers in the\n",
    "range of 1 to 25."
   ]
  },
  {
   "cell_type": "markdown",
   "id": "7c8bee57-6b93-4703-ac95-60dda4abcf51",
   "metadata": {},
   "source": [
    "Ans- \"def\" keyword is use to create a function."
   ]
  },
  {
   "cell_type": "code",
   "execution_count": 14,
   "id": "500e4ac7-9b78-4124-ae41-8d2982f74bc2",
   "metadata": {},
   "outputs": [],
   "source": [
    "def get_odd_numbers():\n",
    "    odd_numbers=[]\n",
    "    for num in range(1,25):\n",
    "        if num % 2 != 0:\n",
    "            odd_numbers.append(num)\n",
    "    return odd_numbers"
   ]
  },
  {
   "cell_type": "code",
   "execution_count": 15,
   "id": "378b7aad-f54b-4bbb-8c57-c9bf8e646ea8",
   "metadata": {},
   "outputs": [
    {
     "data": {
      "text/plain": [
       "[1, 3, 5, 7, 9, 11, 13, 15, 17, 19, 21, 23]"
      ]
     },
     "execution_count": 15,
     "metadata": {},
     "output_type": "execute_result"
    }
   ],
   "source": [
    "odd_numbers()"
   ]
  },
  {
   "cell_type": "markdown",
   "id": "845f8d66-0a35-490a-88cb-208b9d869a60",
   "metadata": {},
   "source": [
    "Q2. Why *args and **kwargs is used in some functions? Create a function each for *args and **kwargs\n",
    "to demonstrate their use."
   ]
  },
  {
   "cell_type": "markdown",
   "id": "43c81c0d-7c54-4b56-a931-d278e0ffc7b9",
   "metadata": {},
   "source": [
    "Ans- The *args and **kwargs parameters are used in Python functions when the number of arguments or keyword arguments that a function can accept is not known in advance or can vary.\n",
    "\n",
    "The *args parameter allows a function to accept any number of positional arguments. It collects these arguments into a tuple, which can be accessed within the function using the args variable name. This is useful when you want to pass a variable number of arguments to a function.\n",
    "\n",
    "Example of function that demonstrates the use of *args:"
   ]
  },
  {
   "cell_type": "code",
   "execution_count": 17,
   "id": "2b938464-2689-4d61-9971-591544ae234c",
   "metadata": {},
   "outputs": [
    {
     "name": "stdout",
     "output_type": "stream",
     "text": [
      "6\n",
      "22\n",
      "101\n"
     ]
    }
   ],
   "source": [
    "def sum_numbers(*args):\n",
    "    total = 0\n",
    "    for num in args:\n",
    "        total+=num\n",
    "    return total\n",
    "#calling function with different numbers of arguments\n",
    "print(sum_numbers(1,2,3))\n",
    "print(sum_numbers(4,5,6,7))\n",
    "print(sum_numbers(34,67))"
   ]
  },
  {
   "cell_type": "markdown",
   "id": "71c05609-94b0-4abd-bad9-f88f19503363",
   "metadata": {},
   "source": [
    "The **kwargs parameter, allows a function to accept any number of keyword arguments. It collects these arguments into a dictionary, where the keys are the argument names and the values are the corresponding argument values. This is useful when you want to pass a variable number of keyword arguments to a function.\n",
    "\n",
    "Here's an example function that demonstrates the use of **kwargs:"
   ]
  },
  {
   "cell_type": "code",
   "execution_count": 20,
   "id": "b012e886-e3ae-4558-b91f-f3bbea3b8375",
   "metadata": {},
   "outputs": [
    {
     "name": "stdout",
     "output_type": "stream",
     "text": [
      "name:Abhi\n",
      "age:30\n",
      "city:New delhi\n",
      "Product:Laptop\n",
      "Price:52000\n"
     ]
    }
   ],
   "source": [
    "def display_info(**kwargs):\n",
    "    for key,value in kwargs.items():\n",
    "        print(f\"{key}:{value}\")\n",
    "#calling the function with different keyword arguments\n",
    "display_info(name=\"Abhi\",age=30,city=\"New delhi\")\n",
    "display_info(Product=\"Laptop\",Price=52000)"
   ]
  },
  {
   "cell_type": "markdown",
   "id": "f7044040-b9f6-4b05-bc60-3e14e4dfa410",
   "metadata": {},
   "source": [
    "Q3. What is an iterator in python? Name the method used to initialise the iterator object and the method\n",
    "used for iteration. Use these methods to print the first five elements of the given list [2, 4, 6, 8, 10, 12, 14,\n",
    "16, 18, 20]."
   ]
  },
  {
   "cell_type": "markdown",
   "id": "30f09144-4a91-49d7-b5c0-f99312992bd3",
   "metadata": {},
   "source": [
    "Ans- An iterator is an object that implements the iterator protocol, which consists of two methods: __iter__() and __next__().\n",
    "\n",
    "The __iter__() method is used to initialize the iterator object. It returns the iterator object itself and is called when you\n",
    "want to iterate over the elements of a container.\n",
    "\n",
    "The __next__() method is used to retrieve the next element from the iterator. It returns the next element in the iteration\n",
    "and raises the StopIteration exception when there are no more elements to be returned."
   ]
  },
  {
   "cell_type": "code",
   "execution_count": 24,
   "id": "593f47e1-f761-4444-b7ab-9ec052559f90",
   "metadata": {},
   "outputs": [
    {
     "name": "stdout",
     "output_type": "stream",
     "text": [
      "2\n",
      "4\n",
      "6\n",
      "8\n",
      "10\n"
     ]
    }
   ],
   "source": [
    "my_list=[2,4,6,8,10,12,14,16,18,20]\n",
    "#create a iterator object\n",
    "my_iter=iter(my_list)\n",
    "# Iterate over the iterator and print the first five elements\n",
    "for _ in range(5):\n",
    "    element=next(my_iter)\n",
    "    print(element)"
   ]
  },
  {
   "cell_type": "markdown",
   "id": "09d0b4cc-2cef-465b-a0bd-d15a636257c3",
   "metadata": {},
   "source": [
    "Q4. What is a generator function in python? Why yield keyword is used? Give an example of a generator\n",
    "function."
   ]
  },
  {
   "cell_type": "markdown",
   "id": "a747e289-a049-49cf-bb36-d288d7c711bf",
   "metadata": {},
   "source": [
    "Ans- A generator function is a special type of function that generates a sequence of values using the \"yield\" keyword instead of the \"return\" keyword. It allows you to create iterators in a more concise and efficient way compared to using regular functions or classes.\n",
    "\n",
    "When a generator function is called, it returns a generator object. The generator object can be iterated over using a loop or other iterator methods, and each time a value is requested, the generator function executes until it reaches a \"yield\" statement. At that point, the current value is returned, and the function's state is saved. The next time the generator is iterated over, it continues execution from where it left off, remembering its internal state.\n",
    "\n",
    "The \"yield\" keyword is used to specify the values to be generated by the generator function. When a \"yield\" statement is encountered, it temporarily suspends the function's execution and returns the yielded value. The state of the function is preserved, allowing it to resume where it left off the next time it's called.\n",
    "\n",
    "Example of a generator function that generates a sequence of squares:"
   ]
  },
  {
   "cell_type": "code",
   "execution_count": 2,
   "id": "70daf133-8e1f-4c8c-98cb-45dbfca1d927",
   "metadata": {},
   "outputs": [
    {
     "name": "stdout",
     "output_type": "stream",
     "text": [
      "0\n",
      "1\n",
      "4\n",
      "9\n",
      "16\n",
      "25\n",
      "36\n",
      "49\n",
      "64\n",
      "81\n"
     ]
    }
   ],
   "source": [
    "def square_generator(n):\n",
    "    for i in range(n):\n",
    "        yield i**2\n",
    "#using generator function\n",
    "squares=square_generator(10)\n",
    "for square in squares:\n",
    "    print(square)"
   ]
  },
  {
   "cell_type": "markdown",
   "id": "fee91e7f-3a8c-43b6-9f7e-c102b1ecbf15",
   "metadata": {},
   "source": [
    "Using generator functions can be beneficial when working with large sequences of data or when you want to generate values on the fly without storing them all in memory at once."
   ]
  },
  {
   "cell_type": "markdown",
   "id": "7fac46c9-4ceb-4265-b8a6-4863af3f2cd2",
   "metadata": {},
   "source": [
    "Q5. Create a generator function for prime numbers less than 1000. Use the next() method to print the\n",
    "first 20 prime numbers."
   ]
  },
  {
   "cell_type": "code",
   "execution_count": 16,
   "id": "6a2432c2-dd73-4913-bebd-4e61bef9ca07",
   "metadata": {},
   "outputs": [
    {
     "name": "stdout",
     "output_type": "stream",
     "text": [
      "2\n",
      "3\n",
      "5\n",
      "7\n",
      "11\n",
      "13\n",
      "17\n",
      "19\n",
      "23\n",
      "29\n",
      "31\n",
      "37\n",
      "41\n",
      "43\n",
      "47\n",
      "53\n",
      "59\n",
      "61\n",
      "67\n",
      "71\n"
     ]
    }
   ],
   "source": [
    "def prime_generator():\n",
    "    yield 2 #2 is first prime number\n",
    "    primes=[2]\n",
    "    num=3\n",
    "    while num < 1000:\n",
    "        is_prime=True\n",
    "        for prime in primes:\n",
    "            if prime>int(num**0.5):\n",
    "                break\n",
    "            if num % prime == 0:\n",
    "                is_prime=False\n",
    "                break\n",
    "        if is_prime:\n",
    "            primes.append(num)\n",
    "            yield num\n",
    "        num += 2 ## Optimization: Skip even numbers greater than 2\n",
    "# Create the generator object\n",
    "prime_gen=prime_generator()\n",
    "# Print the first 20 prime numbers\n",
    "for _ in range(20):\n",
    "    prime=next(prime_gen)\n",
    "    print(prime)\n",
    "            "
   ]
  },
  {
   "cell_type": "markdown",
   "id": "5c381424-fb6b-49a5-9206-5e544d67b4d1",
   "metadata": {},
   "source": [
    "Q6. Write a python program to print the first 10 Fibonacci numbers using a while loop."
   ]
  },
  {
   "cell_type": "code",
   "execution_count": 1,
   "id": "bf992428-e148-4957-92ac-d3055d9b13d9",
   "metadata": {},
   "outputs": [
    {
     "name": "stdout",
     "output_type": "stream",
     "text": [
      "0\n",
      "1\n",
      "1\n",
      "2\n",
      "3\n",
      "5\n",
      "8\n",
      "13\n",
      "21\n",
      "34\n"
     ]
    }
   ],
   "source": [
    "def fib_num():\n",
    "    a,b=0,1\n",
    "    while True:\n",
    "        yield a\n",
    "        a,b=b,a+b\n",
    "fib=fib_num()\n",
    "for i in range(10):\n",
    "    print(next(fib))\n",
    "    "
   ]
  },
  {
   "cell_type": "markdown",
   "id": "64c64718-b3b4-4fe4-9211-318af4234179",
   "metadata": {},
   "source": [
    "Q7. Write a List Comprehension to iterate through the given string: ‘pwskills’.\n",
    "Expected output: ['p', 'w', 's', 'k', 'i', 'l', 'l', 's']"
   ]
  },
  {
   "cell_type": "code",
   "execution_count": 3,
   "id": "22189588-401d-4033-acb1-e9883995d760",
   "metadata": {},
   "outputs": [
    {
     "data": {
      "text/plain": [
       "['p', 'w', 's', 'k', 'i', 'l', 'l', 's']"
      ]
     },
     "execution_count": 3,
     "metadata": {},
     "output_type": "execute_result"
    }
   ],
   "source": [
    "s=\"pwskills\"\n",
    "list(map(lambda s:s,s))"
   ]
  },
  {
   "cell_type": "markdown",
   "id": "65836609-deff-4edb-a2a0-35a4c3603d27",
   "metadata": {},
   "source": [
    "Q8. Write a python program to check whether a given number is Palindrome or not using a while loop."
   ]
  },
  {
   "cell_type": "code",
   "execution_count": 11,
   "id": "cdc64afe-43d9-410b-a0c8-35e966ecaa08",
   "metadata": {},
   "outputs": [
    {
     "name": "stdin",
     "output_type": "stream",
     "text": [
      "Enter a number:  1112111\n"
     ]
    },
    {
     "name": "stdout",
     "output_type": "stream",
     "text": [
      "1112111 is a palindrome\n"
     ]
    }
   ],
   "source": [
    "def is_palindrome(number):\n",
    "    temp = number\n",
    "    reverse = 0\n",
    "\n",
    "    while temp > 0:\n",
    "        remainder = temp % 10\n",
    "        reverse = (reverse * 10) + remainder\n",
    "        temp = temp // 10\n",
    "\n",
    "    if number == reverse:\n",
    "        return True\n",
    "    else:\n",
    "        return False\n",
    "\n",
    "# Test the function\n",
    "number = int(input(\"Enter a number: \"))\n",
    "if is_palindrome(number):\n",
    "    print(f\"{number} is a palindrome\")\n",
    "else:\n",
    "    print(f\"{number} is not a palindrome\")\n"
   ]
  },
  {
   "cell_type": "markdown",
   "id": "700641a6-09ae-4c0b-9ebf-f3fd3f46f47c",
   "metadata": {},
   "source": [
    "Q9. Write a code to print odd numbers from 1 to 100 using list comprehension."
   ]
  },
  {
   "cell_type": "code",
   "execution_count": null,
   "id": "d56a5d2a-d802-4562-8345-f490080f2193",
   "metadata": {},
   "outputs": [],
   "source": [
    "range(1,100)\n",
    "list(filter(lambda x:x%2!=0,range(1,100)))\n",
    "#"
   ]
  }
 ],
 "metadata": {
  "kernelspec": {
   "display_name": "Python 3 (ipykernel)",
   "language": "python",
   "name": "python3"
  },
  "language_info": {
   "codemirror_mode": {
    "name": "ipython",
    "version": 3
   },
   "file_extension": ".py",
   "mimetype": "text/x-python",
   "name": "python",
   "nbconvert_exporter": "python",
   "pygments_lexer": "ipython3",
   "version": "3.10.8"
  }
 },
 "nbformat": 4,
 "nbformat_minor": 5
}
